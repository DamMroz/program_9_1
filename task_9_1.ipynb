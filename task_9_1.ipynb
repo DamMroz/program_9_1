{
 "cells": [
  {
   "cell_type": "code",
   "execution_count": 60,
   "id": "0574a4a8",
   "metadata": {},
   "outputs": [],
   "source": [
    "import numpy as np\n",
    "import pandas as pd\n",
    "import matplotlib.pyplot as plt"
   ]
  },
  {
   "cell_type": "code",
   "execution_count": 61,
   "id": "cfa1dd07",
   "metadata": {},
   "outputs": [],
   "source": [
    "df = pd.read_csv('tmdb_movies.csv')\n",
    "df_genres = pd.read_csv('tmdb_genres.csv')"
   ]
  },
  {
   "cell_type": "code",
   "execution_count": 62,
   "id": "abfa0e38",
   "metadata": {},
   "outputs": [
    {
     "data": {
      "text/html": [
       "<div>\n",
       "<style scoped>\n",
       "    .dataframe tbody tr th:only-of-type {\n",
       "        vertical-align: middle;\n",
       "    }\n",
       "\n",
       "    .dataframe tbody tr th {\n",
       "        vertical-align: top;\n",
       "    }\n",
       "\n",
       "    .dataframe thead th {\n",
       "        text-align: right;\n",
       "    }\n",
       "</style>\n",
       "<table border=\"1\" class=\"dataframe\">\n",
       "  <thead>\n",
       "    <tr style=\"text-align: right;\">\n",
       "      <th></th>\n",
       "      <th>Unnamed: 0</th>\n",
       "      <th>budget</th>\n",
       "      <th>homepage</th>\n",
       "      <th>id</th>\n",
       "      <th>original_language</th>\n",
       "      <th>original_title</th>\n",
       "      <th>overview</th>\n",
       "      <th>popularity</th>\n",
       "      <th>release_date</th>\n",
       "      <th>revenue</th>\n",
       "      <th>runtime</th>\n",
       "      <th>status</th>\n",
       "      <th>tagline</th>\n",
       "      <th>title</th>\n",
       "      <th>vote_average</th>\n",
       "      <th>vote_count</th>\n",
       "      <th>genre_id</th>\n",
       "    </tr>\n",
       "  </thead>\n",
       "  <tbody>\n",
       "    <tr>\n",
       "      <th>1881</th>\n",
       "      <td>1881</td>\n",
       "      <td>25000000</td>\n",
       "      <td>NaN</td>\n",
       "      <td>278</td>\n",
       "      <td>en</td>\n",
       "      <td>The Shawshank Redemption</td>\n",
       "      <td>Framed in the 1940s for the double murder of h...</td>\n",
       "      <td>136.747729</td>\n",
       "      <td>1994-09-23</td>\n",
       "      <td>28341469</td>\n",
       "      <td>142.0</td>\n",
       "      <td>Released</td>\n",
       "      <td>Fear can hold you prisoner. Hope can set you f...</td>\n",
       "      <td>The Shawshank Redemption</td>\n",
       "      <td>8.5</td>\n",
       "      <td>8205</td>\n",
       "      <td>18.0</td>\n",
       "    </tr>\n",
       "    <tr>\n",
       "      <th>3337</th>\n",
       "      <td>3337</td>\n",
       "      <td>6000000</td>\n",
       "      <td>http://www.thegodfather.com/</td>\n",
       "      <td>238</td>\n",
       "      <td>en</td>\n",
       "      <td>The Godfather</td>\n",
       "      <td>Spanning the years 1945 to 1955, a chronicle o...</td>\n",
       "      <td>143.659698</td>\n",
       "      <td>1972-03-14</td>\n",
       "      <td>245066411</td>\n",
       "      <td>175.0</td>\n",
       "      <td>Released</td>\n",
       "      <td>An offer you can't refuse.</td>\n",
       "      <td>The Godfather</td>\n",
       "      <td>8.4</td>\n",
       "      <td>5893</td>\n",
       "      <td>18.0</td>\n",
       "    </tr>\n",
       "    <tr>\n",
       "      <th>662</th>\n",
       "      <td>662</td>\n",
       "      <td>63000000</td>\n",
       "      <td>http://www.foxmovies.com/movies/fight-club</td>\n",
       "      <td>550</td>\n",
       "      <td>en</td>\n",
       "      <td>Fight Club</td>\n",
       "      <td>A ticking-time-bomb insomniac and a slippery s...</td>\n",
       "      <td>146.757391</td>\n",
       "      <td>1999-10-15</td>\n",
       "      <td>100853753</td>\n",
       "      <td>139.0</td>\n",
       "      <td>Released</td>\n",
       "      <td>Mischief. Mayhem. Soap.</td>\n",
       "      <td>Fight Club</td>\n",
       "      <td>8.3</td>\n",
       "      <td>9413</td>\n",
       "      <td>18.0</td>\n",
       "    </tr>\n",
       "    <tr>\n",
       "      <th>1818</th>\n",
       "      <td>1818</td>\n",
       "      <td>22000000</td>\n",
       "      <td>http://www.schindlerslist.com/</td>\n",
       "      <td>424</td>\n",
       "      <td>en</td>\n",
       "      <td>Schindler's List</td>\n",
       "      <td>The true story of how businessman Oskar Schind...</td>\n",
       "      <td>104.469351</td>\n",
       "      <td>1993-11-29</td>\n",
       "      <td>321365567</td>\n",
       "      <td>195.0</td>\n",
       "      <td>Released</td>\n",
       "      <td>Whoever saves one life, saves the world entire.</td>\n",
       "      <td>Schindler's List</td>\n",
       "      <td>8.3</td>\n",
       "      <td>4329</td>\n",
       "      <td>18.0</td>\n",
       "    </tr>\n",
       "    <tr>\n",
       "      <th>2294</th>\n",
       "      <td>2294</td>\n",
       "      <td>15000000</td>\n",
       "      <td>http://movies.disney.com/spirited-away</td>\n",
       "      <td>129</td>\n",
       "      <td>ja</td>\n",
       "      <td>千と千尋の神隠し</td>\n",
       "      <td>A ten year old girl who wanders away from her ...</td>\n",
       "      <td>118.968562</td>\n",
       "      <td>2001-07-20</td>\n",
       "      <td>274925095</td>\n",
       "      <td>125.0</td>\n",
       "      <td>Released</td>\n",
       "      <td>The tunnel led Chihiro to a mysterious town...</td>\n",
       "      <td>Spirited Away</td>\n",
       "      <td>8.3</td>\n",
       "      <td>3840</td>\n",
       "      <td>14.0</td>\n",
       "    </tr>\n",
       "    <tr>\n",
       "      <th>2731</th>\n",
       "      <td>2731</td>\n",
       "      <td>13000000</td>\n",
       "      <td>NaN</td>\n",
       "      <td>240</td>\n",
       "      <td>en</td>\n",
       "      <td>The Godfather: Part II</td>\n",
       "      <td>In the continuing saga of the Corleone crime f...</td>\n",
       "      <td>105.792936</td>\n",
       "      <td>1974-12-20</td>\n",
       "      <td>47542841</td>\n",
       "      <td>200.0</td>\n",
       "      <td>Released</td>\n",
       "      <td>I don't feel I have to wipe everybody out, Tom...</td>\n",
       "      <td>The Godfather: Part II</td>\n",
       "      <td>8.3</td>\n",
       "      <td>3338</td>\n",
       "      <td>18.0</td>\n",
       "    </tr>\n",
       "    <tr>\n",
       "      <th>3232</th>\n",
       "      <td>3232</td>\n",
       "      <td>8000000</td>\n",
       "      <td>NaN</td>\n",
       "      <td>680</td>\n",
       "      <td>en</td>\n",
       "      <td>Pulp Fiction</td>\n",
       "      <td>A burger-loving hit man, his philosophical par...</td>\n",
       "      <td>121.463076</td>\n",
       "      <td>1994-10-08</td>\n",
       "      <td>213928762</td>\n",
       "      <td>154.0</td>\n",
       "      <td>Released</td>\n",
       "      <td>Just because you are a character doesn't mean ...</td>\n",
       "      <td>Pulp Fiction</td>\n",
       "      <td>8.3</td>\n",
       "      <td>8428</td>\n",
       "      <td>53.0</td>\n",
       "    </tr>\n",
       "    <tr>\n",
       "      <th>3865</th>\n",
       "      <td>3865</td>\n",
       "      <td>3300000</td>\n",
       "      <td>http://sonyclassics.com/whiplash/</td>\n",
       "      <td>244786</td>\n",
       "      <td>en</td>\n",
       "      <td>Whiplash</td>\n",
       "      <td>Under the direction of a ruthless instructor, ...</td>\n",
       "      <td>192.528841</td>\n",
       "      <td>2014-10-10</td>\n",
       "      <td>13092000</td>\n",
       "      <td>105.0</td>\n",
       "      <td>Released</td>\n",
       "      <td>The road to greatness can take you to the edge.</td>\n",
       "      <td>Whiplash</td>\n",
       "      <td>8.3</td>\n",
       "      <td>4254</td>\n",
       "      <td>18.0</td>\n",
       "    </tr>\n",
       "    <tr>\n",
       "      <th>65</th>\n",
       "      <td>65</td>\n",
       "      <td>185000000</td>\n",
       "      <td>http://thedarkknight.warnerbros.com/dvdsite/</td>\n",
       "      <td>155</td>\n",
       "      <td>en</td>\n",
       "      <td>The Dark Knight</td>\n",
       "      <td>Batman raises the stakes in his war on crime. ...</td>\n",
       "      <td>187.322927</td>\n",
       "      <td>2008-07-16</td>\n",
       "      <td>1004558444</td>\n",
       "      <td>152.0</td>\n",
       "      <td>Released</td>\n",
       "      <td>Why So Serious?</td>\n",
       "      <td>The Dark Knight</td>\n",
       "      <td>8.2</td>\n",
       "      <td>12002</td>\n",
       "      <td>18.0</td>\n",
       "    </tr>\n",
       "    <tr>\n",
       "      <th>690</th>\n",
       "      <td>690</td>\n",
       "      <td>60000000</td>\n",
       "      <td>http://thegreenmile.warnerbros.com/</td>\n",
       "      <td>497</td>\n",
       "      <td>en</td>\n",
       "      <td>The Green Mile</td>\n",
       "      <td>A supernatural tale set on death row in a Sout...</td>\n",
       "      <td>103.698022</td>\n",
       "      <td>1999-12-10</td>\n",
       "      <td>284600000</td>\n",
       "      <td>189.0</td>\n",
       "      <td>Released</td>\n",
       "      <td>Miracles do happen.</td>\n",
       "      <td>The Green Mile</td>\n",
       "      <td>8.2</td>\n",
       "      <td>4048</td>\n",
       "      <td>14.0</td>\n",
       "    </tr>\n",
       "  </tbody>\n",
       "</table>\n",
       "</div>"
      ],
      "text/plain": [
       "      Unnamed: 0     budget                                      homepage  \\\n",
       "1881        1881   25000000                                           NaN   \n",
       "3337        3337    6000000                  http://www.thegodfather.com/   \n",
       "662          662   63000000    http://www.foxmovies.com/movies/fight-club   \n",
       "1818        1818   22000000                http://www.schindlerslist.com/   \n",
       "2294        2294   15000000        http://movies.disney.com/spirited-away   \n",
       "2731        2731   13000000                                           NaN   \n",
       "3232        3232    8000000                                           NaN   \n",
       "3865        3865    3300000             http://sonyclassics.com/whiplash/   \n",
       "65            65  185000000  http://thedarkknight.warnerbros.com/dvdsite/   \n",
       "690          690   60000000           http://thegreenmile.warnerbros.com/   \n",
       "\n",
       "          id original_language            original_title  \\\n",
       "1881     278                en  The Shawshank Redemption   \n",
       "3337     238                en             The Godfather   \n",
       "662      550                en                Fight Club   \n",
       "1818     424                en          Schindler's List   \n",
       "2294     129                ja                  千と千尋の神隠し   \n",
       "2731     240                en    The Godfather: Part II   \n",
       "3232     680                en              Pulp Fiction   \n",
       "3865  244786                en                  Whiplash   \n",
       "65       155                en           The Dark Knight   \n",
       "690      497                en            The Green Mile   \n",
       "\n",
       "                                               overview  popularity  \\\n",
       "1881  Framed in the 1940s for the double murder of h...  136.747729   \n",
       "3337  Spanning the years 1945 to 1955, a chronicle o...  143.659698   \n",
       "662   A ticking-time-bomb insomniac and a slippery s...  146.757391   \n",
       "1818  The true story of how businessman Oskar Schind...  104.469351   \n",
       "2294  A ten year old girl who wanders away from her ...  118.968562   \n",
       "2731  In the continuing saga of the Corleone crime f...  105.792936   \n",
       "3232  A burger-loving hit man, his philosophical par...  121.463076   \n",
       "3865  Under the direction of a ruthless instructor, ...  192.528841   \n",
       "65    Batman raises the stakes in his war on crime. ...  187.322927   \n",
       "690   A supernatural tale set on death row in a Sout...  103.698022   \n",
       "\n",
       "     release_date     revenue  runtime    status  \\\n",
       "1881   1994-09-23    28341469    142.0  Released   \n",
       "3337   1972-03-14   245066411    175.0  Released   \n",
       "662    1999-10-15   100853753    139.0  Released   \n",
       "1818   1993-11-29   321365567    195.0  Released   \n",
       "2294   2001-07-20   274925095    125.0  Released   \n",
       "2731   1974-12-20    47542841    200.0  Released   \n",
       "3232   1994-10-08   213928762    154.0  Released   \n",
       "3865   2014-10-10    13092000    105.0  Released   \n",
       "65     2008-07-16  1004558444    152.0  Released   \n",
       "690    1999-12-10   284600000    189.0  Released   \n",
       "\n",
       "                                                tagline  \\\n",
       "1881  Fear can hold you prisoner. Hope can set you f...   \n",
       "3337                         An offer you can't refuse.   \n",
       "662                             Mischief. Mayhem. Soap.   \n",
       "1818    Whoever saves one life, saves the world entire.   \n",
       "2294     The tunnel led Chihiro to a mysterious town...   \n",
       "2731  I don't feel I have to wipe everybody out, Tom...   \n",
       "3232  Just because you are a character doesn't mean ...   \n",
       "3865    The road to greatness can take you to the edge.   \n",
       "65                                      Why So Serious?   \n",
       "690                                 Miracles do happen.   \n",
       "\n",
       "                         title  vote_average  vote_count  genre_id  \n",
       "1881  The Shawshank Redemption           8.5        8205      18.0  \n",
       "3337             The Godfather           8.4        5893      18.0  \n",
       "662                 Fight Club           8.3        9413      18.0  \n",
       "1818          Schindler's List           8.3        4329      18.0  \n",
       "2294             Spirited Away           8.3        3840      14.0  \n",
       "2731    The Godfather: Part II           8.3        3338      18.0  \n",
       "3232              Pulp Fiction           8.3        8428      53.0  \n",
       "3865                  Whiplash           8.3        4254      18.0  \n",
       "65             The Dark Knight           8.2       12002      18.0  \n",
       "690             The Green Mile           8.2        4048      14.0  "
      ]
     },
     "execution_count": 62,
     "metadata": {},
     "output_type": "execute_result"
    }
   ],
   "source": [
    "df[(df['vote_count'] > df['vote_count'].quantile(0.75))].nlargest(10, 'vote_average')"
   ]
  },
  {
   "cell_type": "code",
   "execution_count": 63,
   "id": "a2c47fd3",
   "metadata": {},
   "outputs": [],
   "source": [
    "df[\"release_date\"]=df[\"release_date\"].str.split(pat=\"-\").str[0]"
   ]
  },
  {
   "cell_type": "code",
   "execution_count": 64,
   "id": "fe1ef583",
   "metadata": {},
   "outputs": [],
   "source": [
    "df['release_date']=df['release_date'].fillna(0)\n",
    "df['release_date'] = df['release_date'].astype(int)\n",
    "df_restricted=df[(df['release_date'] > 2009) & (df['release_date'] < 2017) ]"
   ]
  },
  {
   "cell_type": "code",
   "execution_count": 65,
   "id": "71d63e63",
   "metadata": {},
   "outputs": [],
   "source": [
    "df_revenue=df_restricted.groupby(['release_date'])['revenue'].mean()\n",
    "df_budget=df_restricted.groupby(['release_date'])['budget'].mean()"
   ]
  },
  {
   "cell_type": "code",
   "execution_count": 66,
   "id": "ea3cf739",
   "metadata": {},
   "outputs": [
    {
     "data": {
      "text/plain": [
       "Text(0.5, 1.0, 'Mean revenue and budget of movies between 2010 and 2016')"
      ]
     },
     "execution_count": 66,
     "metadata": {},
     "output_type": "execute_result"
    },
    {
     "data": {
      "image/png": "[encoded data removed]",
      "text/plain": [
       "<Figure size 640x480 with 1 Axes>"
      ]
     },
     "metadata": {},
     "output_type": "display_data"
    }
   ],
   "source": [
    "date=df_revenue.to_frame()\n",
    "date['release_date'] = date.index\n",
    "\n",
    "date=date['release_date']\n",
    "date=date.to_numpy()\n",
    "\n",
    "revenue=df_revenue.to_frame()\n",
    "\n",
    "revenue=revenue['revenue']\n",
    "revenue=revenue.to_numpy()\n",
    "revenue/=1000000\n",
    "budget=df_budget.to_frame()\n",
    "budget=budget['budget']\n",
    "budget=budget.to_numpy()\n",
    "budget/=1000000\n",
    "\n",
    "fig, ax = plt.subplots()\n",
    "\n",
    "ax.bar(date,revenue)\n",
    "ax.plot(date,budget,color=\"r\")\n",
    "ax.set_xlabel(\"year\")\n",
    "ax.set_ylabel(\"money (in millions)\")\n",
    "ax.legend([\"budget\", \"revenues\"],loc=(1.10,0.9))\n",
    "plt.title(\"Mean revenue and budget of movies between 2010 and 2016\")"
   ]
  },
  {
   "cell_type": "code",
   "execution_count": 67,
   "id": "8ab27da6",
   "metadata": {},
   "outputs": [],
   "source": [
    "df_genres.rename(columns={\"genres\":\"genre\"},inplace=True)"
   ]
  },
  {
   "cell_type": "code",
   "execution_count": 68,
   "id": "f2e75628",
   "metadata": {},
   "outputs": [],
   "source": [
    "df_genres.rename(columns={\"Unnamed: 0\" :\"genre_id\"},inplace=True)"
   ]
  },
  {
   "cell_type": "code",
   "execution_count": 69,
   "id": "5c322570",
   "metadata": {},
   "outputs": [],
   "source": [
    "df_new=df\n",
    "df_genres=df_genres.set_index('genre_id')\n",
    "df_joined=df_new.join(df_genres,on='genre_id')"
   ]
  },
  {
   "cell_type": "code",
   "execution_count": 70,
   "id": "19045a65",
   "metadata": {},
   "outputs": [
    {
     "data": {
      "text/plain": [
       "'Drama 1207'"
      ]
     },
     "execution_count": 70,
     "metadata": {},
     "output_type": "execute_result"
    }
   ],
   "source": [
    "f\"{df_joined.groupby(['genre']).size().idxmax()} {df_joined.groupby(['genre']).size().max()}\""
   ]
  },
  {
   "cell_type": "markdown",
   "id": "cdb9caa0",
   "metadata": {},
   "source": [
    "Najczęściej pojawia się film z kategorii Drama (1207 razy)."
   ]
  },
  {
   "cell_type": "code",
   "execution_count": 71,
   "id": "08ed77a0",
   "metadata": {},
   "outputs": [],
   "source": [
    "df_joined_information=df_joined.groupby([\"genre\"])[\"runtime\"].mean()"
   ]
  },
  {
   "cell_type": "code",
   "execution_count": 72,
   "id": "3b368d02",
   "metadata": {},
   "outputs": [
    {
     "data": {
      "text/plain": [
       "'History 133.96'"
      ]
     },
     "execution_count": 72,
     "metadata": {},
     "output_type": "execute_result"
    }
   ],
   "source": [
    "f\"{df_joined_information.idxmax()} {df_joined_information.max()}\""
   ]
  },
  {
   "cell_type": "markdown",
   "id": "b9686ffc",
   "metadata": {},
   "source": [
    "Najdłużej trwają filmy History (133.96 minut)."
   ]
  },
  {
   "cell_type": "code",
   "execution_count": 73,
   "id": "69e8cd58",
   "metadata": {},
   "outputs": [],
   "source": [
    "df_joined=df_joined[(df_joined['genre'] == 'History')  ]"
   ]
  },
  {
   "cell_type": "code",
   "execution_count": 74,
   "id": "6cc37bd5",
   "metadata": {},
   "outputs": [
    {
     "data": {
      "image/png": "[encoded data removed]",
      "text/plain": [
       "<Figure size 640x480 with 1 Axes>"
      ]
     },
     "metadata": {},
     "output_type": "display_data"
    }
   ],
   "source": [
    "df_joined['runtime'].plot(kind='hist',bins=30,color='b',xlabel=\"runtime\").locator_params(axis='y', integer=True)"
   ]
  }
 ],
 "metadata": {
  "kernelspec": {
   "display_name": "Python 3 (ipykernel)",
   "language": "python",
   "name": "python3"
  },
  "language_info": {
   "codemirror_mode": {
    "name": "ipython",
    "version": 3
   },
   "file_extension": ".py",
   "mimetype": "text/x-python",
   "name": "python",
   "nbconvert_exporter": "python",
   "pygments_lexer": "ipython3",
   "version": "3.11.7"
  }
 },
 "nbformat": 4,
 "nbformat_minor": 5
}
